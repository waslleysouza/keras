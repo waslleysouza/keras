{
 "cells": [
  {
   "cell_type": "code",
   "execution_count": 1,
   "metadata": {},
   "outputs": [
    {
     "name": "stderr",
     "output_type": "stream",
     "text": [
      "Using TensorFlow backend.\n"
     ]
    }
   ],
   "source": [
    "from keras.models import Sequential\n",
    "from keras.layers import Dense, Flatten, Conv2D, MaxPooling2D\n",
    "from keras.preprocessing.image import ImageDataGenerator\n",
    "import os, shutil"
   ]
  },
  {
   "cell_type": "code",
   "execution_count": 2,
   "metadata": {},
   "outputs": [],
   "source": [
    "base_dir = 'datasets/dogs-vs-cats'\n",
    "\n",
    "original_dir = os.path.join(base_dir, 'original')\n",
    "original_train_dir = os.path.join(original_dir, 'train')\n",
    "\n",
    "train_dir = os.path.join(base_dir, 'train')\n",
    "validation_dir = os.path.join(base_dir, 'validation')\n",
    "\n",
    "cats_train_dir = os.path.join(train_dir, 'cats')\n",
    "cats_validation_dir = os.path.join(validation_dir, 'cats')\n",
    "\n",
    "dogs_train_dir = os.path.join(train_dir, 'dogs')\n",
    "dogs_validation_dir = os.path.join(validation_dir, 'dogs')"
   ]
  },
  {
   "cell_type": "code",
   "execution_count": 3,
   "metadata": {},
   "outputs": [],
   "source": [
    "os.mkdir(train_dir)\n",
    "os.mkdir(validation_dir)\n",
    "os.mkdir(cats_train_dir)\n",
    "os.mkdir(cats_validation_dir)\n",
    "os.mkdir(dogs_train_dir)\n",
    "os.mkdir(dogs_validation_dir)"
   ]
  },
  {
   "cell_type": "code",
   "execution_count": 4,
   "metadata": {},
   "outputs": [],
   "source": [
    "def copy_images_to_folder(filename_pattern, start_range, stop_range, src_dir, dst_dir):\n",
    "    filenames = [filename_pattern.format(i) for i in range(start_range, stop_range)]\n",
    "    for filename in filenames:\n",
    "        src = os.path.join(src_dir, filename)\n",
    "        dst = os.path.join(dst_dir, filename)\n",
    "        shutil.copyfile(src, dst)\n",
    "\n",
    "copy_images_to_folder('cat.{}.jpg', 0, 10000, original_train_dir, cats_train_dir)\n",
    "copy_images_to_folder('cat.{}.jpg', 10000, 12500, original_train_dir, cats_validation_dir)\n",
    "\n",
    "copy_images_to_folder('dog.{}.jpg', 0, 10000, original_train_dir, dogs_train_dir)\n",
    "copy_images_to_folder('dog.{}.jpg', 10000, 12500, original_train_dir, dogs_validation_dir)"
   ]
  },
  {
   "cell_type": "code",
   "execution_count": 5,
   "metadata": {},
   "outputs": [
    {
     "name": "stdout",
     "output_type": "stream",
     "text": [
      "Found 20000 images belonging to 2 classes.\n",
      "Found 5000 images belonging to 2 classes.\n"
     ]
    }
   ],
   "source": [
    "batch_size = 20\n",
    "\n",
    "train_datagen = ImageDataGenerator(rescale=1./255)\n",
    "validation_datagen = ImageDataGenerator(rescale=1./255)\n",
    "\n",
    "train_generator = train_datagen.flow_from_directory(train_dir, \n",
    "                                                    target_size=(50,50), \n",
    "                                                    batch_size=batch_size, \n",
    "                                                    class_mode='binary')\n",
    "\n",
    "validation_generator = validation_datagen.flow_from_directory(validation_dir, \n",
    "                                                              target_size=(50,50), \n",
    "                                                              batch_size=batch_size, \n",
    "                                                              class_mode='binary')"
   ]
  },
  {
   "cell_type": "code",
   "execution_count": 6,
   "metadata": {},
   "outputs": [
    {
     "name": "stdout",
     "output_type": "stream",
     "text": [
      "_________________________________________________________________\n",
      "Layer (type)                 Output Shape              Param #   \n",
      "=================================================================\n",
      "conv2d_1 (Conv2D)            (None, 48, 48, 32)        896       \n",
      "_________________________________________________________________\n",
      "max_pooling2d_1 (MaxPooling2 (None, 24, 24, 32)        0         \n",
      "_________________________________________________________________\n",
      "conv2d_2 (Conv2D)            (None, 22, 22, 64)        18496     \n",
      "_________________________________________________________________\n",
      "max_pooling2d_2 (MaxPooling2 (None, 11, 11, 64)        0         \n",
      "_________________________________________________________________\n",
      "conv2d_3 (Conv2D)            (None, 9, 9, 128)         73856     \n",
      "_________________________________________________________________\n",
      "max_pooling2d_3 (MaxPooling2 (None, 4, 4, 128)         0         \n",
      "_________________________________________________________________\n",
      "conv2d_4 (Conv2D)            (None, 2, 2, 128)         147584    \n",
      "_________________________________________________________________\n",
      "max_pooling2d_4 (MaxPooling2 (None, 1, 1, 128)         0         \n",
      "_________________________________________________________________\n",
      "flatten_1 (Flatten)          (None, 128)               0         \n",
      "_________________________________________________________________\n",
      "dense_1 (Dense)              (None, 512)               66048     \n",
      "_________________________________________________________________\n",
      "dense_2 (Dense)              (None, 1)                 513       \n",
      "=================================================================\n",
      "Total params: 307,393\n",
      "Trainable params: 307,393\n",
      "Non-trainable params: 0\n",
      "_________________________________________________________________\n"
     ]
    }
   ],
   "source": [
    "model = Sequential()\n",
    "model.add(Conv2D(32, kernel_size=(3,3), activation='relu', input_shape=(50,50,3)))\n",
    "model.add(MaxPooling2D(pool_size=(2,2)))\n",
    "model.add(Conv2D(64, kernel_size=(3,3), activation='relu'))\n",
    "model.add(MaxPooling2D(pool_size=(2,2)))\n",
    "model.add(Conv2D(128, kernel_size=(3,3), activation='relu'))\n",
    "model.add(MaxPooling2D(pool_size=(2,2)))\n",
    "model.add(Conv2D(128, kernel_size=(3,3), activation='relu'))\n",
    "model.add(MaxPooling2D(pool_size=(2,2)))\n",
    "model.add(Flatten())\n",
    "model.add(Dense(512, activation='relu'))\n",
    "model.add(Dense(1, activation='sigmoid'))\n",
    "model.summary()"
   ]
  },
  {
   "cell_type": "code",
   "execution_count": 7,
   "metadata": {},
   "outputs": [
    {
     "name": "stdout",
     "output_type": "stream",
     "text": [
      "Epoch 1/10\n",
      "1000/1000 [==============================] - 230s 230ms/step - loss: 0.6356 - acc: 0.6301 - val_loss: 0.5886 - val_acc: 0.6770\n",
      "Epoch 2/10\n",
      "1000/1000 [==============================] - 135s 135ms/step - loss: 0.5272 - acc: 0.7405 - val_loss: 0.4813 - val_acc: 0.7812\n",
      "Epoch 3/10\n",
      "1000/1000 [==============================] - 124s 124ms/step - loss: 0.4682 - acc: 0.7792 - val_loss: 0.4411 - val_acc: 0.7968\n",
      "Epoch 4/10\n",
      "1000/1000 [==============================] - 119s 119ms/step - loss: 0.4251 - acc: 0.8059 - val_loss: 0.4301 - val_acc: 0.8020\n",
      "Epoch 5/10\n",
      "1000/1000 [==============================] - 119s 119ms/step - loss: 0.3831 - acc: 0.8322 - val_loss: 0.4598 - val_acc: 0.7926\n",
      "Epoch 6/10\n",
      "1000/1000 [==============================] - 119s 119ms/step - loss: 0.3539 - acc: 0.8493 - val_loss: 0.4248 - val_acc: 0.8156\n",
      "Epoch 7/10\n",
      "1000/1000 [==============================] - 118s 118ms/step - loss: 0.3233 - acc: 0.8621 - val_loss: 0.3960 - val_acc: 0.8380\n",
      "Epoch 8/10\n",
      "1000/1000 [==============================] - 115s 115ms/step - loss: 0.3018 - acc: 0.8745 - val_loss: 0.3793 - val_acc: 0.8382\n",
      "Epoch 9/10\n",
      "1000/1000 [==============================] - 114s 114ms/step - loss: 0.2786 - acc: 0.8833 - val_loss: 0.3833 - val_acc: 0.8380\n",
      "Epoch 10/10\n",
      "1000/1000 [==============================] - 128s 128ms/step - loss: 0.2578 - acc: 0.8973 - val_loss: 0.4321 - val_acc: 0.8480\n"
     ]
    }
   ],
   "source": [
    "model.compile(loss='binary_crossentropy', optimizer='rmsprop', metrics=['accuracy'])\n",
    "\n",
    "history = model.fit_generator(train_generator, \n",
    "                              steps_per_epoch=20000/batch_size, \n",
    "                              epochs=10, \n",
    "                              validation_data=validation_generator, \n",
    "                              validation_steps=5000/batch_size)"
   ]
  }
 ],
 "metadata": {
  "kernelspec": {
   "display_name": "Python [conda env:py36keras]",
   "language": "python",
   "name": "conda-env-py36keras-py"
  },
  "language_info": {
   "codemirror_mode": {
    "name": "ipython",
    "version": 3
   },
   "file_extension": ".py",
   "mimetype": "text/x-python",
   "name": "python",
   "nbconvert_exporter": "python",
   "pygments_lexer": "ipython3",
   "version": "3.6.7"
  }
 },
 "nbformat": 4,
 "nbformat_minor": 2
}
